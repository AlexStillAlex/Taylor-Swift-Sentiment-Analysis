{
 "cells": [
  {
   "cell_type": "code",
   "execution_count": 3,
   "metadata": {},
   "outputs": [],
   "source": [
    "# Standard data processing libraries\n",
    "import pandas as pd\n",
    "import numpy as np\n",
    "\n",
    "# Libraries for NLP\n",
    "import nltk\n",
    "from nltk.corpus import stopwords\n",
    "from nltk.sentiment.vader import SentimentIntensityAnalyzer\n",
    "\n",
    "# Language Detection Library\n",
    "import fasttext as ft\n",
    "\n",
    "# Deep learning libraries\n",
    "# import keras\n",
    "# from keras.models import Sequential\n",
    "# from keras.layers import Dense,LSTM,Dropout,Embedding, Bidirectional\n",
    "\n",
    "# Libraries for visualization\n",
    "import plotly.express as px\n",
    "import plotly.io as pio\n",
    "\n",
    "# Setting template for all plots\n",
    "pio.templates.default = \"simple_white\""
   ]
  }
 ],
 "metadata": {
  "kernelspec": {
   "display_name": ".venv",
   "language": "python",
   "name": "python3"
  },
  "language_info": {
   "codemirror_mode": {
    "name": "ipython",
    "version": 3
   },
   "file_extension": ".py",
   "mimetype": "text/x-python",
   "name": "python",
   "nbconvert_exporter": "python",
   "pygments_lexer": "ipython3",
   "version": "3.12.4"
  }
 },
 "nbformat": 4,
 "nbformat_minor": 2
}
